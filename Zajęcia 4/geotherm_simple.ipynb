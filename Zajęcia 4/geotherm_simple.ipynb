{
  "cells": [
    {
      "cell_type": "markdown",
      "metadata": {
        "id": "view-in-github",
        "colab_type": "text"
      },
      "source": [
        "<a href=\"https://colab.research.google.com/github/filiphalys02/Modelowanie-w-naukach-o-ziemii/blob/main/geotherm_simple.ipynb\" target=\"_parent\"><img src=\"https://colab.research.google.com/assets/colab-badge.svg\" alt=\"Open In Colab\"/></a>"
      ]
    },
    {
      "cell_type": "markdown",
      "source": [],
      "metadata": {
        "id": "taRoinhrocjT"
      }
    },
    {
      "cell_type": "markdown",
      "source": [
        "Zciągnięcie pakietu na osobisty dysk google aby zaoszczędzić czas przy restartach runtime. "
      ],
      "metadata": {
        "id": "VfAYSdUcyD_h"
      }
    },
    {
      "cell_type": "code",
      "source": [
        "!apt-get install nvidia-cuda-toolkit"
      ],
      "metadata": {
        "colab": {
          "base_uri": "https://localhost:8080/"
        },
        "id": "QGIj9ksWobxC",
        "outputId": "a99ae875-36b4-4d49-d221-a510c36393ca"
      },
      "execution_count": 1,
      "outputs": [
        {
          "output_type": "stream",
          "name": "stdout",
          "text": [
            "Reading package lists... Done\n",
            "Building dependency tree       \n",
            "Reading state information... Done\n",
            "nvidia-cuda-toolkit is already the newest version (10.1.243-3).\n",
            "0 upgraded, 0 newly installed, 0 to remove and 24 not upgraded.\n"
          ]
        }
      ]
    },
    {
      "cell_type": "markdown",
      "source": [],
      "metadata": {
        "id": "6ojLY8XnodJ5"
      }
    },
    {
      "cell_type": "code",
      "execution_count": 2,
      "metadata": {
        "colab": {
          "base_uri": "https://localhost:8080/"
        },
        "id": "7Fc4ie5No-YV",
        "outputId": "22ac92ed-59de-4bb4-e871-cbb4eb66ba4e"
      },
      "outputs": [
        {
          "output_type": "stream",
          "name": "stdout",
          "text": [
            "Looking in indexes: https://pypi.org/simple, https://us-python.pkg.dev/colab-wheels/public/simple/\n",
            "Requirement already satisfied: rpy2==3.5.1 in /usr/local/lib/python3.9/dist-packages (3.5.1)\n",
            "Requirement already satisfied: cffi>=1.10.0 in /usr/local/lib/python3.9/dist-packages (from rpy2==3.5.1) (1.15.1)\n",
            "Requirement already satisfied: jinja2 in /usr/local/lib/python3.9/dist-packages (from rpy2==3.5.1) (3.1.2)\n",
            "Requirement already satisfied: pytz in /usr/local/lib/python3.9/dist-packages (from rpy2==3.5.1) (2022.7.1)\n",
            "Requirement already satisfied: tzlocal in /usr/local/lib/python3.9/dist-packages (from rpy2==3.5.1) (4.3)\n",
            "Requirement already satisfied: pycparser in /usr/local/lib/python3.9/dist-packages (from cffi>=1.10.0->rpy2==3.5.1) (2.21)\n",
            "Requirement already satisfied: MarkupSafe>=2.0 in /usr/local/lib/python3.9/dist-packages (from jinja2->rpy2==3.5.1) (2.1.2)\n",
            "Requirement already satisfied: pytz-deprecation-shim in /usr/local/lib/python3.9/dist-packages (from tzlocal->rpy2==3.5.1) (0.1.0.post0)\n",
            "Requirement already satisfied: tzdata in /usr/local/lib/python3.9/dist-packages (from pytz-deprecation-shim->tzlocal->rpy2==3.5.1) (2023.3)\n"
          ]
        }
      ],
      "source": [
        "!pip install rpy2==3.5.1\n",
        "\n",
        "%load_ext rpy2.ipython\n"
      ]
    },
    {
      "cell_type": "markdown",
      "metadata": {
        "id": "9AJaQ_cBPo0v"
      },
      "source": [
        "Komenda %lsmagic w Google Colab wyświetla listę wszystkich dostępnych w Colab magicznych poleceń (line i cell magic), czyli specjalnych poleceń pozwalających na bardziej zaawansowane korzystanie z notatnika."
      ]
    },
    {
      "cell_type": "code",
      "execution_count": 3,
      "metadata": {
        "colab": {
          "base_uri": "https://localhost:8080/",
          "height": 225
        },
        "id": "kSiPoGndu6-F",
        "outputId": "03fe0466-f627-48f6-f470-c7c9670b3068"
      },
      "outputs": [
        {
          "output_type": "execute_result",
          "data": {
            "text/plain": [
              "Available line magics:\n",
              "%R  %Rdevice  %Rget  %Rpull  %Rpush  %alias  %alias_magic  %autoawait  %autocall  %automagic  %autosave  %bookmark  %cat  %cd  %clear  %colors  %conda  %config  %connect_info  %cp  %debug  %dhist  %dirs  %doctest_mode  %ed  %edit  %env  %gui  %hist  %history  %killbgscripts  %ldir  %less  %lf  %lk  %ll  %load  %load_ext  %loadpy  %logoff  %logon  %logstart  %logstate  %logstop  %ls  %lsmagic  %lx  %macro  %magic  %man  %matplotlib  %mkdir  %more  %mv  %notebook  %page  %pastebin  %pdb  %pdef  %pdoc  %pfile  %pinfo  %pinfo2  %pip  %popd  %pprint  %precision  %prun  %psearch  %psource  %pushd  %pwd  %pycat  %pylab  %qtconsole  %quickref  %recall  %rehashx  %reload_ext  %rep  %rerun  %reset  %reset_selective  %rm  %rmdir  %run  %save  %sc  %set_env  %shell  %store  %sx  %system  %tb  %tensorflow_version  %time  %timeit  %unalias  %unload_ext  %who  %who_ls  %whos  %xdel  %xmode\n",
              "\n",
              "Available cell magics:\n",
              "%%!  %%HTML  %%R  %%SVG  %%bash  %%bigquery  %%capture  %%debug  %%file  %%html  %%javascript  %%js  %%latex  %%markdown  %%perl  %%prun  %%pypy  %%python  %%python2  %%python3  %%ruby  %%script  %%sh  %%shell  %%svg  %%sx  %%system  %%time  %%timeit  %%writefile\n",
              "\n",
              "Automagic is ON, % prefix IS NOT needed for line magics."
            ],
            "application/json": {
              "line": {
                "automagic": "AutoMagics",
                "autocall": "AutoMagics",
                "alias_magic": "BasicMagics",
                "lsmagic": "BasicMagics",
                "magic": "BasicMagics",
                "page": "BasicMagics",
                "pprint": "BasicMagics",
                "colors": "BasicMagics",
                "xmode": "BasicMagics",
                "quickref": "BasicMagics",
                "doctest_mode": "BasicMagics",
                "gui": "BasicMagics",
                "precision": "BasicMagics",
                "notebook": "BasicMagics",
                "save": "CodeMagics",
                "pastebin": "CodeMagics",
                "loadpy": "CodeMagics",
                "load": "CodeMagics",
                "edit": "KernelMagics",
                "config": "ConfigMagics",
                "prun": "ExecutionMagics",
                "pdb": "ExecutionMagics",
                "debug": "ExecutionMagics",
                "tb": "ExecutionMagics",
                "run": "ExecutionMagics",
                "timeit": "ExecutionMagics",
                "time": "ExecutionMagics",
                "macro": "ExecutionMagics",
                "load_ext": "ExtensionMagics",
                "unload_ext": "ExtensionMagics",
                "reload_ext": "ExtensionMagics",
                "history": "HistoryMagics",
                "recall": "HistoryMagics",
                "rerun": "HistoryMagics",
                "logstart": "LoggingMagics",
                "logstop": "LoggingMagics",
                "logoff": "LoggingMagics",
                "logon": "LoggingMagics",
                "logstate": "LoggingMagics",
                "pinfo": "NamespaceMagics",
                "pinfo2": "NamespaceMagics",
                "pdef": "NamespaceMagics",
                "pdoc": "NamespaceMagics",
                "psource": "NamespaceMagics",
                "pfile": "NamespaceMagics",
                "psearch": "NamespaceMagics",
                "who_ls": "NamespaceMagics",
                "who": "NamespaceMagics",
                "whos": "NamespaceMagics",
                "reset": "NamespaceMagics",
                "reset_selective": "NamespaceMagics",
                "xdel": "NamespaceMagics",
                "alias": "OSMagics",
                "unalias": "OSMagics",
                "rehashx": "OSMagics",
                "pwd": "OSMagics",
                "cd": "OSMagics",
                "env": "OSMagics",
                "set_env": "OSMagics",
                "pushd": "OSMagics",
                "popd": "OSMagics",
                "dirs": "OSMagics",
                "dhist": "OSMagics",
                "sc": "OSMagics",
                "sx": "OSMagics",
                "system": "OSMagics",
                "bookmark": "OSMagics",
                "pycat": "OSMagics",
                "pip": "Other",
                "conda": "PackagingMagics",
                "matplotlib": "PylabMagics",
                "pylab": "PylabMagics",
                "killbgscripts": "ScriptMagics",
                "autoawait": "AsyncMagics",
                "ed": "Other",
                "hist": "Other",
                "rep": "Other",
                "clear": "KernelMagics",
                "less": "KernelMagics",
                "more": "KernelMagics",
                "man": "KernelMagics",
                "connect_info": "KernelMagics",
                "qtconsole": "KernelMagics",
                "autosave": "KernelMagics",
                "mkdir": "Other",
                "rmdir": "Other",
                "mv": "Other",
                "rm": "Other",
                "cp": "Other",
                "cat": "Other",
                "ls": "Other",
                "ll": "Other",
                "lf": "Other",
                "lk": "Other",
                "ldir": "Other",
                "lx": "Other",
                "store": "StoreMagics",
                "shell": "Other",
                "tensorflow_version": "Other",
                "Rdevice": "RMagics",
                "Rpush": "RMagics",
                "Rpull": "RMagics",
                "Rget": "RMagics",
                "R": "RMagics"
              },
              "cell": {
                "js": "DisplayMagics",
                "javascript": "DisplayMagics",
                "latex": "DisplayMagics",
                "svg": "DisplayMagics",
                "html": "DisplayMagics",
                "markdown": "DisplayMagics",
                "prun": "ExecutionMagics",
                "debug": "ExecutionMagics",
                "timeit": "ExecutionMagics",
                "time": "ExecutionMagics",
                "capture": "ExecutionMagics",
                "sx": "OSMagics",
                "system": "OSMagics",
                "!": "OSMagics",
                "writefile": "OSMagics",
                "script": "ScriptMagics",
                "sh": "Other",
                "bash": "Other",
                "perl": "Other",
                "ruby": "Other",
                "python": "Other",
                "python2": "Other",
                "python3": "Other",
                "pypy": "Other",
                "SVG": "Other",
                "HTML": "Other",
                "file": "Other",
                "bigquery": "Other",
                "shell": "Other",
                "R": "RMagics"
              }
            }
          },
          "metadata": {},
          "execution_count": 3
        }
      ],
      "source": [
        "%lsmagic"
      ]
    },
    {
      "cell_type": "markdown",
      "metadata": {
        "id": "h7DNJ-BtSkrx"
      },
      "source": [
        "Teraz zabawa z akceleracją GPU w Colab i R.\n",
        "---"
      ]
    },
    {
      "cell_type": "markdown",
      "metadata": {
        "id": "5aAtThvlUJAC"
      },
      "source": [
        "Zanim przeładujemy runtime sprawdźmy clinfo w terminalu "
      ]
    },
    {
      "cell_type": "code",
      "execution_count": 4,
      "metadata": {
        "colab": {
          "base_uri": "https://localhost:8080/"
        },
        "id": "b-xOGJ56UT3r",
        "outputId": "f9f83637-e06e-48d6-d602-72ac79445ceb"
      },
      "outputs": [
        {
          "output_type": "stream",
          "name": "stdout",
          "text": [
            "Number of platforms                               1\n",
            "  Platform Name                                   NVIDIA CUDA\n",
            "  Platform Vendor                                 NVIDIA Corporation\n",
            "  Platform Version                                OpenCL 3.0 CUDA 12.0.139\n",
            "  Platform Profile                                FULL_PROFILE\n",
            "  Platform Extensions                             cl_khr_global_int32_base_atomics cl_khr_global_int32_extended_atomics cl_khr_local_int32_base_atomics cl_khr_local_int32_extended_atomics cl_khr_fp64 cl_khr_3d_image_writes cl_khr_byte_addressable_store cl_khr_icd cl_nv_compiler_options cl_nv_device_attribute_query cl_nv_pragma_unroll cl_nv_copy_opts cl_nv_create_buffer cl_khr_int64_base_atomics cl_khr_int64_extended_atomics cl_nv_kernel_attribute cl_khr_device_uuid cl_khr_pci_bus_info cl_khr_external_semaphore cl_khr_external_memory cl_khr_external_semaphore_opaque_fd cl_khr_external_memory_opaque_fd\n",
            "  Platform Host timer resolution                  0ns\n",
            "  Platform Extensions function suffix             NV\n",
            "\n",
            "  Platform Name                                   NVIDIA CUDA\n",
            "Number of devices                                 1\n",
            "  Device Name                                     Tesla T4\n",
            "  Device Vendor                                   NVIDIA Corporation\n",
            "  Device Vendor ID                                0x10de\n",
            "  Device Version                                  OpenCL 3.0 CUDA\n",
            "  Driver Version                                  525.85.12\n",
            "  Device OpenCL C Version                         OpenCL C 1.2 \n",
            "  Device Type                                     GPU\n",
            "  Device Topology (NV)                            PCI-E, 00:00.4\n",
            "  Device Profile                                  FULL_PROFILE\n",
            "  Device Available                                Yes\n",
            "  Compiler Available                              Yes\n",
            "  Linker Available                                Yes\n",
            "  Max compute units                               40\n",
            "  Max clock frequency                             1590MHz\n",
            "  Compute Capability (NV)                         7.5\n",
            "  Device Partition                                (core)\n",
            "    Max number of sub-devices                     1\n",
            "    Supported partition types                     None\n",
            "    Supported affinity domains                    (n/a)\n",
            "  Max work item dimensions                        3\n",
            "  Max work item sizes                             1024x1024x64\n",
            "  Max work group size                             1024\n",
            "  Preferred work group size multiple              32\n",
            "  Warp size (NV)                                  32\n",
            "  Max sub-groups per work group                   0\n",
            "  Preferred / native vector sizes                 \n",
            "    char                                                 1 / 1       \n",
            "    short                                                1 / 1       \n",
            "    int                                                  1 / 1       \n",
            "    long                                                 1 / 1       \n",
            "    half                                                 0 / 0        (n/a)\n",
            "    float                                                1 / 1       \n",
            "    double                                               1 / 1        (cl_khr_fp64)\n",
            "  Half-precision Floating-point support           (n/a)\n",
            "  Single-precision Floating-point support         (core)\n",
            "    Denormals                                     Yes\n",
            "    Infinity and NANs                             Yes\n",
            "    Round to nearest                              Yes\n",
            "    Round to zero                                 Yes\n",
            "    Round to infinity                             Yes\n",
            "    IEEE754-2008 fused multiply-add               Yes\n",
            "    Support is emulated in software               No\n",
            "    Correctly-rounded divide and sqrt operations  Yes\n",
            "  Double-precision Floating-point support         (cl_khr_fp64)\n",
            "    Denormals                                     Yes\n",
            "    Infinity and NANs                             Yes\n",
            "    Round to nearest                              Yes\n",
            "    Round to zero                                 Yes\n",
            "    Round to infinity                             Yes\n",
            "    IEEE754-2008 fused multiply-add               Yes\n",
            "    Support is emulated in software               No\n",
            "  Address bits                                    64, Little-Endian\n",
            "  Global memory size                              15835398144 (14.75GiB)\n",
            "  Error Correction support                        Yes\n",
            "  Max memory allocation                           3958849536 (3.687GiB)\n",
            "  Unified memory for Host and Device              No\n",
            "  Integrated memory (NV)                          No\n",
            "  Shared Virtual Memory (SVM) capabilities        (core)\n",
            "    Coarse-grained buffer sharing                 Yes\n",
            "    Fine-grained buffer sharing                   No\n",
            "    Fine-grained system sharing                   No\n",
            "    Atomics                                       No\n",
            "  Minimum alignment for any data type             128 bytes\n",
            "  Alignment of base address                       4096 bits (512 bytes)\n",
            "  Preferred alignment for atomics                 \n",
            "    SVM                                           0 bytes\n",
            "    Global                                        0 bytes\n",
            "    Local                                         0 bytes\n",
            "  Max size for global variable                    0\n",
            "  Preferred total size of global vars             0\n",
            "  Global Memory cache type                        Read/Write\n",
            "  Global Memory cache size                        1310720 (1.25MiB)\n",
            "  Global Memory cache line size                   128 bytes\n",
            "  Image support                                   Yes\n",
            "    Max number of samplers per kernel             32\n",
            "    Max size for 1D images from buffer            268435456 pixels\n",
            "    Max 1D or 2D image array size                 2048 images\n",
            "    Max 2D image size                             32768x32768 pixels\n",
            "    Max 3D image size                             16384x16384x16384 pixels\n",
            "    Max number of read image args                 256\n",
            "    Max number of write image args                32\n",
            "    Max number of read/write image args           0\n",
            "  Max number of pipe args                         0\n",
            "  Max active pipe reservations                    0\n",
            "  Max pipe packet size                            0\n",
            "  Local memory type                               Local\n",
            "  Local memory size                               49152 (48KiB)\n",
            "  Registers per block (NV)                        65536\n",
            "  Max number of constant args                     9\n",
            "  Max constant buffer size                        65536 (64KiB)\n",
            "  Max size of kernel argument                     4352 (4.25KiB)\n",
            "  Queue properties (on host)                      \n",
            "    Out-of-order execution                        Yes\n",
            "    Profiling                                     Yes\n",
            "  Queue properties (on device)                    \n",
            "    Out-of-order execution                        No\n",
            "    Profiling                                     No\n",
            "    Preferred size                                0\n",
            "    Max size                                      0\n",
            "  Max queues on device                            0\n",
            "  Max events on device                            0\n",
            "  Prefer user sync for interop                    No\n",
            "  Profiling timer resolution                      1000ns\n",
            "  Execution capabilities                          \n",
            "    Run OpenCL kernels                            Yes\n",
            "    Run native kernels                            No\n",
            "    Sub-group independent forward progress        No\n",
            "    Kernel execution timeout (NV)                 No\n",
            "  Concurrent copy and kernel execution (NV)       Yes\n",
            "    Number of async copy engines                  3\n",
            "    IL version                                    (n/a)\n",
            "  printf() buffer size                            1048576 (1024KiB)\n",
            "  Built-in kernels                                (n/a)\n",
            "  Device Extensions                               cl_khr_global_int32_base_atomics cl_khr_global_int32_extended_atomics cl_khr_local_int32_base_atomics cl_khr_local_int32_extended_atomics cl_khr_fp64 cl_khr_3d_image_writes cl_khr_byte_addressable_store cl_khr_icd cl_nv_compiler_options cl_nv_device_attribute_query cl_nv_pragma_unroll cl_nv_copy_opts cl_nv_create_buffer cl_khr_int64_base_atomics cl_khr_int64_extended_atomics cl_nv_kernel_attribute cl_khr_device_uuid cl_khr_pci_bus_info cl_khr_external_semaphore cl_khr_external_memory cl_khr_external_semaphore_opaque_fd cl_khr_external_memory_opaque_fd\n",
            "\n",
            "NULL platform behavior\n",
            "  clGetPlatformInfo(NULL, CL_PLATFORM_NAME, ...)  No platform\n",
            "  clGetDeviceIDs(NULL, CL_DEVICE_TYPE_ALL, ...)   No platform\n",
            "  clCreateContext(NULL, ...) [default]            No platform\n",
            "  clCreateContext(NULL, ...) [other]              Success [NV]\n",
            "  clCreateContextFromType(NULL, CL_DEVICE_TYPE_DEFAULT)  No platform\n",
            "  clCreateContextFromType(NULL, CL_DEVICE_TYPE_CPU)  No devices found in platform\n",
            "  clCreateContextFromType(NULL, CL_DEVICE_TYPE_GPU)  No platform\n",
            "  clCreateContextFromType(NULL, CL_DEVICE_TYPE_ACCELERATOR)  No devices found in platform\n",
            "  clCreateContextFromType(NULL, CL_DEVICE_TYPE_CUSTOM)  Invalid device type for platform\n",
            "  clCreateContextFromType(NULL, CL_DEVICE_TYPE_ALL)  No platform\n",
            "\tNOTE:\tyour OpenCL library only supports OpenCL 2.2,\n",
            "\t\tbut some installed platforms support OpenCL 3.0.\n",
            "\t\tPrograms using 3.0 features may crash\n",
            "\t\tor behave unexpectedly\n"
          ]
        }
      ],
      "source": [
        "!clinfo"
      ]
    },
    {
      "cell_type": "markdown",
      "metadata": {
        "id": "jrJV0BaWUg_e"
      },
      "source": [
        "Widać że mamy dostęp do Tesla T4"
      ]
    },
    {
      "cell_type": "markdown",
      "source": [
        "Poniżej informujemy R że mamy swój katalog instalacyjny bibliotek R. Jeśli byśmy go nie mieli to za każdym restartem runtime koniecznym byłoby instalowanie i kompilowanie bibliotek!"
      ],
      "metadata": {
        "id": "hiwTe1iA0W4g"
      }
    },
    {
      "cell_type": "code",
      "execution_count": 5,
      "metadata": {
        "id": "r1P5RHMEAXOq",
        "colab": {
          "base_uri": "https://localhost:8080/"
        },
        "outputId": "b0366e95-cc27-426c-d309-8b3416a1e48a"
      },
      "outputs": [
        {
          "output_type": "stream",
          "name": "stdout",
          "text": [
            "Installing package into ‘/usr/local/lib/R/site-library’\n",
            "(as ‘lib’ is unspecified)\n",
            "trying URL 'https://cran.rstudio.com/src/contrib/OpenCL_0.2-2.tar.gz'\n",
            "Content type 'application/x-gzip' length 20881 bytes (20 KB)\n",
            "==================================================\n",
            "downloaded 20 KB\n",
            "\n",
            "* installing *source* package ‘OpenCL’ ...\n",
            "** package ‘OpenCL’ successfully unpacked and MD5 sums checked\n",
            "** using staged installation\n",
            "** libs\n",
            "gcc -I\"/usr/share/R/include\" -DNDEBUG     -fvisibility=hidden -fpic  -g -O2 -fdebug-prefix-map=/build/r-base-MkHsSu/r-base-4.2.3=. -fstack-protector-strong -Wformat -Werror=format-security -Wdate-time -D_FORTIFY_SOURCE=2  -c buffer.c -o buffer.o\n",
            "gcc -I\"/usr/share/R/include\" -DNDEBUG     -fvisibility=hidden -fpic  -g -O2 -fdebug-prefix-map=/build/r-base-MkHsSu/r-base-4.2.3=. -fstack-protector-strong -Wformat -Werror=format-security -Wdate-time -D_FORTIFY_SOURCE=2  -c ocl.c -o ocl.o\n",
            "gcc -I\"/usr/share/R/include\" -DNDEBUG     -fvisibility=hidden -fpic  -g -O2 -fdebug-prefix-map=/build/r-base-MkHsSu/r-base-4.2.3=. -fstack-protector-strong -Wformat -Werror=format-security -Wdate-time -D_FORTIFY_SOURCE=2  -c reg.c -o reg.o\n",
            "gcc -I\"/usr/share/R/include\" -DNDEBUG     -fvisibility=hidden -fpic  -g -O2 -fdebug-prefix-map=/build/r-base-MkHsSu/r-base-4.2.3=. -fstack-protector-strong -Wformat -Werror=format-security -Wdate-time -D_FORTIFY_SOURCE=2  -c wrap.c -o wrap.o\n",
            "gcc -shared -L/usr/lib/R/lib -Wl,-Bsymbolic-functions -Wl,-z,relro -o OpenCL.so buffer.o ocl.o reg.o wrap.o -lOpenCL -L/usr/lib/R/lib -lR\n",
            "installing to /usr/local/lib/R/site-library/00LOCK-OpenCL/00new/OpenCL/libs\n",
            "** R\n",
            "** byte-compile and prepare package for lazy loading\n",
            "** help\n",
            "*** installing help indices\n",
            "** building package indices\n",
            "** testing if installed package can be loaded from temporary location\n",
            "** checking absolute paths in shared objects and dynamic libraries\n",
            "** testing if installed package can be loaded from final location\n",
            "** testing if installed package keeps a record of temporary installation path\n",
            "* DONE (OpenCL)\n",
            "\n",
            "The downloaded source packages are in\n",
            "\t‘/tmp/Rtmp0Vgin0/downloaded_packages’\n"
          ]
        }
      ],
      "source": [
        "!Rscript -e \"install.packages('OpenCL')\""
      ]
    },
    {
      "cell_type": "code",
      "source": [
        "%%R\n",
        "library(OpenCL)\n",
        "#library(animation)"
      ],
      "metadata": {
        "id": "xNeQncD4AE4S"
      },
      "execution_count": 6,
      "outputs": []
    },
    {
      "cell_type": "markdown",
      "metadata": {
        "id": "AeEDFE8kUnZc"
      },
      "source": [
        "Zacznijmy od OpenCL. Moża korzystać z GPU łatwiej ale z OpenCL można to zrobić najbardziej uniwersalnie. Oczywiście za cenę konieczności własnoręcznego napisania kerneli.   "
      ]
    },
    {
      "cell_type": "code",
      "execution_count": 9,
      "metadata": {
        "colab": {
          "base_uri": "https://localhost:8080/",
          "height": 1000
        },
        "id": "xmbAEpQQNI3u",
        "outputId": "958159dc-ae49-43da-ba08-5d1acebd9cea"
      },
      "outputs": [
        {
          "output_type": "stream",
          "name": "stdout",
          "text": [
            "R wants to show a message\n",
            "\n",
            "\n",
            "Time difference of 6.212341 secs\n"
          ]
        },
        {
          "output_type": "display_data",
          "data": {
            "image/png": "[encoded data removed]"
          },
          "metadata": {}
        },
        {
          "output_type": "display_data",
          "data": {
            "image/png": "[encoded data removed]"
          },
          "metadata": {}
        }
      ],
      "source": [
        "%%R\n",
        "\n",
        "#jądro obliczeniowe \n",
        "geo_cl <- c(\n",
        "  '\n",
        "    __kernel void geotherm(\n",
        "      __global numeric* output,\n",
        "      const unsigned int size,\n",
        "      int inN,\n",
        "      __global double* infl, //wektor z parametrami float\n",
        "      __global double* va,\n",
        "      __global double* vL\n",
        "    )\n",
        "    {\n",
        "      // iterator - uwaga na inne oznaczenie komentarzy!\n",
        "      size_t i = get_global_id(0); // i - globalny numer wątku \n",
        "\n",
        "      //zmienne pomocnicze dt i h^2\n",
        "      float dt;\n",
        "      float h2;\n",
        "\n",
        "      dt=infl[0];\n",
        "      h2=infl[1];\n",
        "\n",
        "\n",
        "        if (i%inN==0){ //góra\n",
        "          output[i] =0;\n",
        "        }\n",
        "        else if(i%inN==inN-1) { //dół\n",
        "          output[i]=50;    \n",
        "        }\n",
        "        else if(i<inN) { //lewa - ŹLE, TO MACIE WYMYŚLEĆ \n",
        "          output[i]=vL[i+inN];    \n",
        "        }\n",
        "        else if(i>size-1-inN) { //prawa - ŹLE, TO MACIE WYMYŚLEĆ \n",
        "          output[i]=vL[i-inN];    \n",
        "        }\n",
        "        else{\n",
        "          output[i]=(1.0-(4.0*dt*va[i])/(h2))*vL[i] + dt*va[i]* ((vL[i-1]+vL[i+1]+vL[i-inN]+vL[i+inN])/(h2));  \n",
        "        }\n",
        "     barrier(CLK_GLOBAL_MEM_FENCE); //czekamy na wszystkie wątki aby uniknać zbyt wczesnego nadpisania danych\n",
        "     vL[i]=output[i]; // przepisanie starej macierzy nową \n",
        "    }\n",
        "  '\n",
        ")\n",
        "#geo_cl\n",
        "\n",
        "\n",
        "\n",
        "library(OpenCL)\n",
        "platform <- oclPlatforms()[[1]]\n",
        "device <- oclDevices(platform)[[1]]\n",
        "ctx <- oclContext(device)\n",
        "\n",
        "#platform\n",
        "#device\n",
        "#ctx\n",
        "\n",
        "geotherm_kernel <- oclSimpleKernel(\n",
        "  # context \n",
        "  ctx, \n",
        "  # nazwa funkcji \n",
        "  name='geotherm', \n",
        "  # kod do wykonania i rodzaj wyjścia\n",
        "  code=geo_cl, \n",
        "  output.mode='numeric'\n",
        ")\n",
        "\n",
        "#wymiar\n",
        "N=200\n",
        "\n",
        "#krok\n",
        "h<-5\n",
        "\n",
        "#inicjalizacja macierzy dla kroku nowego\n",
        "L<-matrix(nrow=N,ncol=N,0)\n",
        "\n",
        "#model alfa - ciało w “lewej środkowej” części modelu \n",
        "a<-matrix(nrow=N,ncol=N,0.002)\n",
        "a[66:132,1:(N/2)]<-rep(0.006,67*(N/2))\n",
        "#image(t(apply(a, 2, rev)))\n",
        "\n",
        "\n",
        "#max a do stabilności \n",
        "a_max<-max(a)\n",
        "#krok czasowy\n",
        "dt<-h^2/(4*a_max)\n",
        "#czas symulacji \n",
        "t<-0\n",
        "#warunki brzegowe \n",
        "L[,1]<-rep(0,N)\n",
        "L[,N]<-rep(0,N)\n",
        "L[1,]<-rep(0,N)\n",
        "L[N,]<-rep(50,N)\n",
        "\n",
        "niter<-100000\n",
        "\n",
        "start<-Sys.time()\n",
        "\n",
        "#geo_kernel transfer danych na kartę \n",
        "vL_buf <- as.clBuffer(as.numeric(L), ctx)\n",
        "va_buf <- as.clBuffer(as.numeric(a), ctx)\n",
        "#wektor ze zmiennymi pomocniczymi (od razu h^2)\n",
        "infl_buf <- as.clBuffer(as.numeric(c(dt,h*h)), ctx)\n",
        "\n",
        "\n",
        "#wykonanie kernela niter razy. Dlaczego to działa?\n",
        "for (k in 1:niter){\n",
        "cl_ans <- oclRun(\n",
        "  kernel=geotherm_kernel, \n",
        "  size=N^2, \n",
        "  inN=as.integer(N),\n",
        "  infl=infl_buf, \n",
        "  va=va_buf, \n",
        "  vL=vL_buf\n",
        ")\n",
        "}\n",
        "\n",
        "stop<-Sys.time()\n",
        "\n",
        "#powrót z wektora na macierz\n",
        "v<-as.numeric(cl_ans)\n",
        "Limg<-matrix(v,ncol=N,nrow=N)\n",
        "\n",
        "#narysowanie przekroju poziomego na poziomie 190 (*5 metrów) \n",
        "plot(Limg[190,])\n",
        "\n",
        "#rysunek\n",
        "Limg <- apply(Limg, 2, rev)\n",
        "image(t(Limg))\n",
        "lines(c(0,0.5),c(0.33,0.33),lwd=2)\n",
        "lines(c(0,0.5),c(0.66,0.66),lwd=2)\n",
        "lines(c(0.5,0.5),c(0.33,0.66),lwd=2)\n",
        "\n",
        "#wypisanie czasu pracy na karcie\n",
        "print(stop-start)"
      ]
    },
    {
      "cell_type": "markdown",
      "metadata": {
        "id": "1AUbcl48WG2i"
      },
      "source": [
        "WOW!\n",
        "---\n"
      ]
    }
  ],
  "metadata": {
    "colab": {
      "provenance": [],
      "include_colab_link": true
    },
    "gpuClass": "standard",
    "kernelspec": {
      "display_name": "Python 3",
      "name": "python3"
    },
    "language_info": {
      "name": "python"
    },
    "accelerator": "GPU"
  },
  "nbformat": 4,
  "nbformat_minor": 0
}
